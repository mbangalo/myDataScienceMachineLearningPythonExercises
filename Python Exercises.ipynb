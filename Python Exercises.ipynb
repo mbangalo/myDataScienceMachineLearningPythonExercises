{
 "cells": [
  {
   "cell_type": "markdown",
   "metadata": {},
   "source": [
    "# Python Exercises"
   ]
  },
  {
   "cell_type": "markdown",
   "metadata": {},
   "source": [
    "### Make 1 list out of theses two:\n",
    "        List1 = [1,2,3]\n",
    "        List2 = [4,5,6]"
   ]
  },
  {
   "cell_type": "code",
   "execution_count": 7,
   "metadata": {},
   "outputs": [
    {
     "data": {
      "text/plain": [
       "[1, 2, 3, 4, 5, 6]"
      ]
     },
     "execution_count": 7,
     "metadata": {},
     "output_type": "execute_result"
    }
   ],
   "source": [
    "List1 = [1,2,3]\n",
    "List2 = [4,5,6]\n",
    "List1.extend(List2)\n",
    "List1"
   ]
  },
  {
   "cell_type": "markdown",
   "metadata": {},
   "source": [
    "### What is 4 to the power of 8"
   ]
  },
  {
   "cell_type": "code",
   "execution_count": 8,
   "metadata": {},
   "outputs": [
    {
     "data": {
      "text/plain": [
       "65536"
      ]
     },
     "execution_count": 8,
     "metadata": {},
     "output_type": "execute_result"
    }
   ],
   "source": [
    "4**8"
   ]
  },
  {
   "cell_type": "markdown",
   "metadata": {},
   "source": [
    "### print()   \"The mean age of the soccer team is 23\" using:\n",
    "    descriptor = \"mean\"\n",
    "    mean = 23"
   ]
  },
  {
   "cell_type": "code",
   "execution_count": 11,
   "metadata": {},
   "outputs": [
    {
     "name": "stdout",
     "output_type": "stream",
     "text": [
      "The mean age of the soccer team is 23\n"
     ]
    }
   ],
   "source": [
    "descriptor = \"mean\"\n",
    "mean = 23\n",
    "print(\"The {} age of the soccer team is {}\".format(descriptor, mean))"
   ]
  },
  {
   "cell_type": "markdown",
   "metadata": {},
   "source": [
    "### Create a function that takes a List with duplicate values and returns the list with no duplicate values\n",
    "\n",
    "def no_duplicates(L):\n",
    "    pass"
   ]
  },
  {
   "cell_type": "code",
   "execution_count": 13,
   "metadata": {},
   "outputs": [
    {
     "data": {
      "text/plain": [
       "{2, 4, 6}"
      ]
     },
     "execution_count": 13,
     "metadata": {},
     "output_type": "execute_result"
    }
   ],
   "source": [
    "def no_duplicates(L):\n",
    "    return set(L)\n",
    "\n",
    "\n",
    "no_duplicates([2,2,4,6,6])"
   ]
  },
  {
   "cell_type": "code",
   "execution_count": null,
   "metadata": {},
   "outputs": [],
   "source": [
    "## My Python exercise #1 begin"
   ]
  },
  {
   "cell_type": "markdown",
   "metadata": {},
   "source": [
    "### Create a function that takes a tuple as input and returns a boolean indicating whether an individual is on a team. If the individual is a player and younger than 19 or older than 25 return False, otherwise True. If the  individual is a coach and the age is greater than 25 return True, otherwise False.\n",
    "\n",
    "def on_team(individual):\n",
    "    pass\n",
    "    \n",
    "individual = ('player', 23)"
   ]
  },
  {
   "cell_type": "code",
   "execution_count": 7,
   "metadata": {},
   "outputs": [],
   "source": [
    "def teamMember(individual):\n",
    "    member = individual[0]\n",
    "    age = individual[1]\n",
    "    if member == \"player\" :\n",
    "        if ((age < 19) or (age > 25)):\n",
    "            return (member, False)\n",
    "        else:\n",
    "            return (member, True)\n",
    "    elif member == \"coach\":\n",
    "        if (age > 25):\n",
    "            return (member, True)\n",
    "        else:\n",
    "            return (member, False)\n",
    "    else:\n",
    "        return (\"Invalid input\")"
   ]
  },
  {
   "cell_type": "code",
   "execution_count": 2,
   "metadata": {},
   "outputs": [
    {
     "name": "stdout",
     "output_type": "stream",
     "text": [
      "('player', True)\n"
     ]
    }
   ],
   "source": [
    "individual = ('player', 23)\n",
    "print(teamMember(individual))"
   ]
  },
  {
   "cell_type": "code",
   "execution_count": 3,
   "metadata": {},
   "outputs": [
    {
     "name": "stdout",
     "output_type": "stream",
     "text": [
      "('player', False)\n"
     ]
    }
   ],
   "source": [
    "individual = ('player', 18)\n",
    "print(teamMember(individual))"
   ]
  },
  {
   "cell_type": "code",
   "execution_count": 4,
   "metadata": {},
   "outputs": [
    {
     "name": "stdout",
     "output_type": "stream",
     "text": [
      "('coach', True)\n"
     ]
    }
   ],
   "source": [
    "individual = ('coach', 26)\n",
    "print(teamMember(individual))"
   ]
  },
  {
   "cell_type": "code",
   "execution_count": 5,
   "metadata": {},
   "outputs": [
    {
     "name": "stdout",
     "output_type": "stream",
     "text": [
      "('coach', False)\n"
     ]
    }
   ],
   "source": [
    "individual = ('coach', 25)\n",
    "print(teamMember(individual))"
   ]
  },
  {
   "cell_type": "code",
   "execution_count": 8,
   "metadata": {},
   "outputs": [
    {
     "name": "stdout",
     "output_type": "stream",
     "text": [
      "Invalid input\n"
     ]
    }
   ],
   "source": [
    "individual = ('Refree', 25)\n",
    "print(teamMember(individual))"
   ]
  },
  {
   "cell_type": "code",
   "execution_count": null,
   "metadata": {},
   "outputs": [],
   "source": [
    "## My Python exercise #1 end"
   ]
  }
 ],
 "metadata": {
  "kernelspec": {
   "display_name": "Python 3",
   "language": "python",
   "name": "python3"
  },
  "language_info": {
   "codemirror_mode": {
    "name": "ipython",
    "version": 3
   },
   "file_extension": ".py",
   "mimetype": "text/x-python",
   "name": "python",
   "nbconvert_exporter": "python",
   "pygments_lexer": "ipython3",
   "version": "3.6.5"
  }
 },
 "nbformat": 4,
 "nbformat_minor": 2
}
